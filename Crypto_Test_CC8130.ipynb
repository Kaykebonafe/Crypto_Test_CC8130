{
 "cells": [
  {
   "cell_type": "markdown",
   "id": "entertaining-cycling",
   "metadata": {},
   "source": [
    "<h1>Randomness Test</h1>"
   ]
  },
  {
   "cell_type": "markdown",
   "id": "interior-backing",
   "metadata": {},
   "source": [
    "#### File"
   ]
  },
  {
   "cell_type": "code",
   "execution_count": 130,
   "id": "formed-guard",
   "metadata": {},
   "outputs": [],
   "source": [
    "import pandas as pd"
   ]
  },
  {
   "cell_type": "code",
   "execution_count": 131,
   "id": "downtown-pursuit",
   "metadata": {},
   "outputs": [],
   "source": [
    "arq = pd.read_excel(\"Chaves de Criptogradia 2021.S1.xlsx\", header=None)"
   ]
  },
  {
   "cell_type": "markdown",
   "id": "complicated-elizabeth",
   "metadata": {},
   "source": [
    "### Transforming Hex to Binary"
   ]
  },
  {
   "cell_type": "code",
   "execution_count": 132,
   "id": "peaceful-foster",
   "metadata": {},
   "outputs": [],
   "source": [
    "def hex_to_binary(hex_number: str, num_digits: int = 8) -> str:\n",
    "    \"\"\"\n",
    "    Converts a hexadecimal value into a string representation\n",
    "    of the corresponding binary value\n",
    "    Args:\n",
    "        hex_number: str hexadecimal value\n",
    "        num_digits: integer value for length of binary value.\n",
    "                    defaults to 8\n",
    "    Returns:\n",
    "        string representation of a binary number 0-padded\n",
    "        to a minimum length of <num_digits>\n",
    "    \"\"\"\n",
    "    return str(bin(int(hex_number, 16)))[2:].zfill(num_digits)"
   ]
  },
  {
   "cell_type": "markdown",
   "id": "civic-house",
   "metadata": {},
   "source": [
    "### Monobit"
   ]
  },
  {
   "cell_type": "code",
   "execution_count": 133,
   "id": "qualified-athletics",
   "metadata": {},
   "outputs": [],
   "source": [
    "def monobit(bitstream: str):\n",
    "    '''\n",
    "    Monobit function implementation thats receive a bitstream, \n",
    "    transform into a binary format and validate the randomness of\n",
    "    the sequence\n",
    "    \n",
    "    Args:\n",
    "        bitstream: str binary stream\n",
    "        \n",
    "    Returns: \n",
    "        a list with the validated randomness of the bitstream\n",
    "        \n",
    "    '''\n",
    "    \n",
    "    # Variables\n",
    "    s = []\n",
    "    count = 0\n",
    "    clist = []\n",
    "    validation_list = []\n",
    "    \n",
    "    for seq in bitstream[0]:\n",
    "        s.append(seq)\n",
    "    \n",
    "    for i in range(len(s)):\n",
    "        s[i] = hex_to_binary(s[i])\n",
    "        \n",
    "    for i in range(len(s)):\n",
    "        for j in range(len(s[i])):\n",
    "            if s[i][j] == '1':\n",
    "                count += 1\n",
    "        clist.append(count)\n",
    "        count = 0\n",
    "\n",
    "    for num in clist:\n",
    "        if num > 9654 and num < 10346:\n",
    "            validation_list.append(\"Key \" + str(clist.index(num)) + \" passed\")\n",
    "    \n",
    "    return validation_list"
   ]
  },
  {
   "cell_type": "code",
   "execution_count": 134,
   "id": "floral-olympus",
   "metadata": {},
   "outputs": [
    {
     "data": {
      "text/plain": [
       "['Key 10 passed',\n",
       " 'Key 11 passed',\n",
       " 'Key 12 passed',\n",
       " 'Key 13 passed',\n",
       " 'Key 14 passed',\n",
       " 'Key 15 passed',\n",
       " 'Key 16 passed',\n",
       " 'Key 17 passed',\n",
       " 'Key 18 passed',\n",
       " 'Key 19 passed']"
      ]
     },
     "execution_count": 134,
     "metadata": {},
     "output_type": "execute_result"
    }
   ],
   "source": [
    "monobit(arq)"
   ]
  },
  {
   "cell_type": "markdown",
   "id": "economic-vocabulary",
   "metadata": {},
   "source": [
    "### Poker Test"
   ]
  },
  {
   "cell_type": "code",
   "execution_count": 135,
   "id": "wanted-deadline",
   "metadata": {},
   "outputs": [],
   "source": [
    "def divide_chunks(l, n):\n",
    "    for i in range(0, len(l), n): \n",
    "        yield l[i:i + n]"
   ]
  },
  {
   "cell_type": "code",
   "execution_count": 136,
   "id": "labeled-biology",
   "metadata": {},
   "outputs": [],
   "source": [
    "def poker_test(bitstream):\n",
    "    dic = {'0000':0, '0001':0, '0010':0, '0011':0, '0100':0, '0101':0, '0110':0, '0111':0, '1000':0, '1001':0, '1010':0, '1011':0, '1100':0, '1101':0, '1110':0, '1111':0}\n",
    "    \n",
    "    s = hex_to_binary(bitstream)\n",
    "    \n",
    "    x = list(divide_chunks(s, 5000))\n",
    "    \n",
    "    for i in range(len(x)):\n",
    "        for j in range(0, len(x[0]), 4):\n",
    "            if x[i][j:j + 4] in dic.keys():\n",
    "                dic[x[i][j:j + 4]] += 1\n",
    "    c = 0\n",
    "    for value in dic.values():\n",
    "        c += value ** 2\n",
    "        \n",
    "    y = (16/5000) * c - 5000\n",
    "    \n",
    "    return y"
   ]
  },
  {
   "cell_type": "code",
   "execution_count": 137,
   "id": "included-impact",
   "metadata": {},
   "outputs": [],
   "source": [
    "results = []\n",
    "for i in range(len(arq[0])):\n",
    "    results.append(poker_test(arq[0][i]))"
   ]
  },
  {
   "cell_type": "code",
   "execution_count": 138,
   "id": "variable-auckland",
   "metadata": {},
   "outputs": [],
   "source": [
    "validation_poker = []\n",
    "for num in results:\n",
    "    if num > 1.03 and num < 57.4:\n",
    "        validation_poker.append(\"Key \" + str(results.index(num)) + \" passed\")"
   ]
  },
  {
   "cell_type": "code",
   "execution_count": 139,
   "id": "reported-rhythm",
   "metadata": {},
   "outputs": [
    {
     "data": {
      "text/plain": [
       "['Key 10 passed',\n",
       " 'Key 11 passed',\n",
       " 'Key 12 passed',\n",
       " 'Key 13 passed',\n",
       " 'Key 14 passed',\n",
       " 'Key 15 passed',\n",
       " 'Key 16 passed',\n",
       " 'Key 17 passed',\n",
       " 'Key 18 passed',\n",
       " 'Key 19 passed']"
      ]
     },
     "execution_count": 139,
     "metadata": {},
     "output_type": "execute_result"
    }
   ],
   "source": [
    "validation_poker"
   ]
  },
  {
   "cell_type": "markdown",
   "id": "internal-subsection",
   "metadata": {},
   "source": [
    "### The Runs Test"
   ]
  },
  {
   "cell_type": "code",
   "execution_count": 140,
   "id": "primary-tucson",
   "metadata": {},
   "outputs": [],
   "source": [
    "def count_sequence(str, seq):\n",
    "    return str.count(seq)"
   ]
  },
  {
   "cell_type": "code",
   "execution_count": 141,
   "id": "streaming-spank",
   "metadata": {},
   "outputs": [],
   "source": [
    "def runs_test(bitstream: str):\n",
    "    consecutive = {'0':0, '00': 0,'000':0, '0000':0, '00000':0, '000000':0, '1':0, '11':0, '111':0, '1111':0, '11111':0, '111111':0}\n",
    "    for key in consecutive.keys():\n",
    "        consecutive[key] = count_sequence(bitstream, key)\n",
    "        \n",
    "        if(\n",
    "\n",
    "            (consecutive[key] >= 1079 and consecutive[key] <= 1421) and\n",
    "            (consecutive[key] >= 502 and consecutive[key] <= 748) and\n",
    "            (consecutive[key] >= 223 and consecutive[key] <= 402) and\n",
    "            (consecutive[key] >= 90 and consecutive[key] <= 223) and\n",
    "            (consecutive[key] >= 90 and consecutive[key] <= 223)\n",
    "\n",
    "        ):\n",
    "            return True\n",
    "        else:\n",
    "            return False"
   ]
  },
  {
   "cell_type": "code",
   "execution_count": 142,
   "id": "closed-logic",
   "metadata": {},
   "outputs": [],
   "source": [
    "results = []\n",
    "for i in range(len(arq[0])):\n",
    "    results.append(runs_test(arq[0][i]))\n",
    "\n",
    "passed = []\n",
    "for i in range(len(results)):\n",
    "    if results[i] == True:\n",
    "        passed.append(\"Key \" + str(i) + \" passed\")\n",
    "    if results[i] == False:\n",
    "        passed.append(\"Key \" + str(i) + \" isn't random\")"
   ]
  },
  {
   "cell_type": "code",
   "execution_count": 143,
   "id": "nervous-france",
   "metadata": {},
   "outputs": [
    {
     "data": {
      "text/plain": [
       "[\"Key 0 isn't random\",\n",
       " \"Key 1 isn't random\",\n",
       " \"Key 2 isn't random\",\n",
       " \"Key 3 isn't random\",\n",
       " \"Key 4 isn't random\",\n",
       " \"Key 5 isn't random\",\n",
       " \"Key 6 isn't random\",\n",
       " \"Key 7 isn't random\",\n",
       " \"Key 8 isn't random\",\n",
       " \"Key 9 isn't random\",\n",
       " \"Key 10 isn't random\",\n",
       " \"Key 11 isn't random\",\n",
       " \"Key 12 isn't random\",\n",
       " \"Key 13 isn't random\",\n",
       " \"Key 14 isn't random\",\n",
       " \"Key 15 isn't random\",\n",
       " \"Key 16 isn't random\",\n",
       " \"Key 17 isn't random\",\n",
       " \"Key 18 isn't random\",\n",
       " \"Key 19 isn't random\"]"
      ]
     },
     "execution_count": 143,
     "metadata": {},
     "output_type": "execute_result"
    }
   ],
   "source": [
    "passed"
   ]
  },
  {
   "cell_type": "markdown",
   "id": "effective-firmware",
   "metadata": {},
   "source": [
    "### The Long Run Test"
   ]
  },
  {
   "cell_type": "code",
   "execution_count": 144,
   "id": "refined-carroll",
   "metadata": {},
   "outputs": [],
   "source": [
    "def long_run_test(bitstream: str):\n",
    "    long_consecutive = {'0':0, '1':0}\n",
    "    for key in long_consecutive.keys():\n",
    "        long_consecutive[key] = count_sequence(bitstream, key*34)\n",
    "        \n",
    "    return long_consecutive"
   ]
  },
  {
   "cell_type": "code",
   "execution_count": 145,
   "id": "velvet-mention",
   "metadata": {},
   "outputs": [],
   "source": [
    "results = []\n",
    "for i in range(len(arq[0])):\n",
    "    results.append(long_run_test(arq[0][i]))\n",
    "\n",
    "passed = []\n",
    "for i in range(len(results)):\n",
    "    if results[i]['0'] >= 1 and results[i]['1'] >= 1:\n",
    "        passed.append(\"Key \" + str(i) + \" isn't random\")\n",
    "    else:\n",
    "        passed.append(\"Key \" + str(i) + \" passed\")"
   ]
  },
  {
   "cell_type": "code",
   "execution_count": 146,
   "id": "suburban-constant",
   "metadata": {},
   "outputs": [
    {
     "data": {
      "text/plain": [
       "['Key 0 passed',\n",
       " 'Key 1 passed',\n",
       " 'Key 2 passed',\n",
       " 'Key 3 passed',\n",
       " 'Key 4 passed',\n",
       " 'Key 5 passed',\n",
       " 'Key 6 passed',\n",
       " 'Key 7 passed',\n",
       " 'Key 8 passed',\n",
       " 'Key 9 passed',\n",
       " 'Key 10 passed',\n",
       " 'Key 11 passed',\n",
       " 'Key 12 passed',\n",
       " 'Key 13 passed',\n",
       " 'Key 14 passed',\n",
       " 'Key 15 passed',\n",
       " 'Key 16 passed',\n",
       " 'Key 17 passed',\n",
       " 'Key 18 passed',\n",
       " 'Key 19 passed']"
      ]
     },
     "execution_count": 146,
     "metadata": {},
     "output_type": "execute_result"
    }
   ],
   "source": [
    "passed"
   ]
  },
  {
   "cell_type": "markdown",
   "id": "processed-horror",
   "metadata": {},
   "source": [
    "# Conclusion"
   ]
  },
  {
   "cell_type": "markdown",
   "id": "developmental-horse",
   "metadata": {},
   "source": [
    "Accordingly to monobit and the poker test, only the final 10 keys are truly random, in the runs test no one seems to be random and, in the long run test, all is random."
   ]
  }
 ],
 "metadata": {
  "kernelspec": {
   "display_name": "Python 3",
   "language": "python",
   "name": "python3"
  },
  "language_info": {
   "codemirror_mode": {
    "name": "ipython",
    "version": 3
   },
   "file_extension": ".py",
   "mimetype": "text/x-python",
   "name": "python",
   "nbconvert_exporter": "python",
   "pygments_lexer": "ipython3",
   "version": "3.9.1"
  }
 },
 "nbformat": 4,
 "nbformat_minor": 5
}
